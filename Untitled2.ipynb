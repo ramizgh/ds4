{
 "cells": [
  {
   "cell_type": "markdown",
   "id": "18f997c5",
   "metadata": {},
   "source": [
    "# single line if"
   ]
  },
  {
   "cell_type": "markdown",
   "id": "c79add5b",
   "metadata": {},
   "source": [
    "# data structure concatenation"
   ]
  },
  {
   "cell_type": "code",
   "execution_count": null,
   "id": "686b7dce",
   "metadata": {},
   "outputs": [],
   "source": []
  },
  {
   "cell_type": "code",
   "execution_count": null,
   "id": "eba32c45",
   "metadata": {},
   "outputs": [],
   "source": []
  },
  {
   "cell_type": "code",
   "execution_count": 1,
   "id": "cfd67b48",
   "metadata": {},
   "outputs": [
    {
     "name": "stdout",
     "output_type": "stream",
     "text": [
      "True\n"
     ]
    }
   ],
   "source": [
    "print(True) if 3>2 else print(False)"
   ]
  },
  {
   "cell_type": "code",
   "execution_count": null,
   "id": "cef5688f",
   "metadata": {},
   "outputs": [],
   "source": []
  }
 ],
 "metadata": {
  "kernelspec": {
   "display_name": "Python 3",
   "language": "python",
   "name": "python3"
  },
  "language_info": {
   "codemirror_mode": {
    "name": "ipython",
    "version": 3
   },
   "file_extension": ".py",
   "mimetype": "text/x-python",
   "name": "python",
   "nbconvert_exporter": "python",
   "pygments_lexer": "ipython3",
   "version": "3.8.8"
  }
 },
 "nbformat": 4,
 "nbformat_minor": 5
}
